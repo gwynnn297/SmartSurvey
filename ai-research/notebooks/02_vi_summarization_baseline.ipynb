{
 "cells": [
  {
   "cell_type": "code",
   "execution_count": null,
   "metadata": {
    "vscode": {
     "languageId": "plaintext"
    }
   },
   "outputs": [],
   "source": [
    "import evaluate\n",
    "rouge = evaluate.load(\"rouge\")\n",
    "\n",
    "# Nếu bạn có ground truth, điền vào đây\n",
    "pred = summarize_vi(sample_text)\n",
    "ref  = \"Sinh viên hài lòng thái độ; cần cải tiến tốc độ xử lý và hướng dẫn online.\"\n",
    "scores = rouge.compute(predictions=[pred], references=[ref])\n",
    "scores\n"
   ]
  },
  {
   "cell_type": "code",
   "execution_count": null,
   "metadata": {
    "vscode": {
     "languageId": "plaintext"
    }
   },
   "outputs": [],
   "source": [
    "MODEL_SUM = \"VietAI/vit5-base\"  # baseline; có thể thử \"VietAI/vit5-large\" nếu đủ tài nguyên\n",
    "tok = AutoTokenizer.from_pretrained(MODEL_SUM)\n",
    "mod = AutoModelForSeq2SeqLM.from_pretrained(MODEL_SUM)\n",
    "\n",
    "def summarize_vi(text: str, max_new_tokens=96):\n",
    "    inputs = tok([text], return_tensors=\"pt\", truncation=True)\n",
    "    out = mod.generate(\n",
    "        **inputs,\n",
    "        max_new_tokens=max_new_tokens,\n",
    "        num_beams=4,\n",
    "        early_stopping=True,\n",
    "        no_repeat_ngram_size=3\n",
    "    )\n",
    "    return tok.decode(out[0], skip_special_tokens=True)\n",
    "\n",
    "sample_text = (\n",
    "    \"Khảo sát chất lượng dịch vụ: Nhiều sinh viên đánh giá cao thái độ nhân viên, \"\n",
    "    \"nhưng phàn nàn về thời gian xử lý thủ tục. Một số góp ý cải thiện quy trình online \"\n",
    "    \"và cung cấp hướng dẫn rõ ràng hơn trên website.\"\n",
    ")\n",
    "print(\"Summary:\", summarize_vi(sample_text))\n"
   ]
  },
  {
   "cell_type": "code",
   "execution_count": null,
   "metadata": {
    "vscode": {
     "languageId": "plaintext"
    }
   },
   "outputs": [],
   "source": [
    "from transformers import AutoTokenizer, AutoModelForSeq2SeqLM\n",
    "import textwrap, torch\n",
    "print(\"Torch:\", torch.__version__)"
   ]
  }
 ],
 "metadata": {
  "language_info": {
   "name": "python"
  }
 },
 "nbformat": 4,
 "nbformat_minor": 2
}
